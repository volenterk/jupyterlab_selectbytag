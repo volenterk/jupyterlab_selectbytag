{
 "cells": [
  {
   "cell_type": "code",
   "execution_count": 1,
   "id": "cf2e879f-8bca-4395-8226-9159920c9921",
   "metadata": {
    "tags": [
     "lmao"
    ]
   },
   "outputs": [
    {
     "name": "stdout",
     "output_type": "stream",
     "text": [
      "lmao\n"
     ]
    }
   ],
   "source": [
    "print(\"lmao\")"
   ]
  },
  {
   "cell_type": "code",
   "execution_count": 2,
   "id": "3d37c80e-42a7-4c7c-90a3-73282ba58c2e",
   "metadata": {
    "tags": [
     "lmao"
    ]
   },
   "outputs": [
    {
     "name": "stdout",
     "output_type": "stream",
     "text": [
      "lmao\n"
     ]
    }
   ],
   "source": [
    "print(\"lmao\")"
   ]
  },
  {
   "cell_type": "code",
   "execution_count": 2,
   "id": "81372b62-845a-4070-a5c0-b0184077e45e",
   "metadata": {
    "tags": [
     "kek"
    ]
   },
   "outputs": [
    {
     "name": "stdout",
     "output_type": "stream",
     "text": [
      "kek\n"
     ]
    }
   ],
   "source": [
    "print(\"kek\")"
   ]
  },
  {
   "cell_type": "code",
   "execution_count": 3,
   "id": "ba9ca2b5-c741-44ae-92ba-b42d71d6f666",
   "metadata": {
    "tags": [
     "lmao"
    ]
   },
   "outputs": [
    {
     "name": "stdout",
     "output_type": "stream",
     "text": [
      "lmao\n"
     ]
    }
   ],
   "source": [
    "print(\"lmao\")"
   ]
  },
  {
   "cell_type": "code",
   "execution_count": 3,
   "id": "466eade9-0627-4e16-9b86-bef563df8491",
   "metadata": {
    "tags": [
     "kek"
    ]
   },
   "outputs": [
    {
     "name": "stdout",
     "output_type": "stream",
     "text": [
      "kek\n"
     ]
    }
   ],
   "source": [
    "print(\"kek\")"
   ]
  },
  {
   "cell_type": "code",
   "execution_count": 4,
   "id": "e12f6106-d9c1-449e-9714-ec8e78a78581",
   "metadata": {
    "tags": [
     "kek"
    ]
   },
   "outputs": [
    {
     "name": "stdout",
     "output_type": "stream",
     "text": [
      "kek\n"
     ]
    }
   ],
   "source": [
    "print(\"kek\")"
   ]
  },
  {
   "cell_type": "code",
   "execution_count": 4,
   "id": "11cbbb72-65c8-43da-89a7-c49dfda58381",
   "metadata": {
    "tags": [
     "lmao"
    ]
   },
   "outputs": [
    {
     "name": "stdout",
     "output_type": "stream",
     "text": [
      "lmao\n"
     ]
    }
   ],
   "source": [
    "print(\"lmao\")"
   ]
  }
 ],
 "metadata": {
  "kernelspec": {
   "display_name": "Python 3 (ipykernel)",
   "language": "python",
   "name": "python3"
  },
  "language_info": {
   "codemirror_mode": {
    "name": "ipython",
    "version": 3
   },
   "file_extension": ".py",
   "mimetype": "text/x-python",
   "name": "python",
   "nbconvert_exporter": "python",
   "pygments_lexer": "ipython3",
   "version": "3.10.6"
  }
 },
 "nbformat": 4,
 "nbformat_minor": 5
}
