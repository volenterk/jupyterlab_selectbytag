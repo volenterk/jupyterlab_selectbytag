{
 "cells": [
  {
   "cell_type": "code",
   "execution_count": 1,
   "id": "fbcc95ee-565b-4d13-a8d1-9e8ae104013b",
   "metadata": {
    "tags": [
     "hello"
    ]
   },
   "outputs": [
    {
     "name": "stdout",
     "output_type": "stream",
     "text": [
      "hello\n"
     ]
    }
   ],
   "source": [
    "print(\"hello\")"
   ]
  },
  {
   "cell_type": "code",
   "execution_count": 6,
   "id": "15768cb2-de72-4a18-9f38-8d1dc7d1369f",
   "metadata": {
    "tags": [
     "there"
    ]
   },
   "outputs": [
    {
     "name": "stdout",
     "output_type": "stream",
     "text": [
      "there\n"
     ]
    }
   ],
   "source": [
    "print(\"there\")"
   ]
  },
  {
   "cell_type": "code",
   "execution_count": 8,
   "id": "e8605c70-91a9-48cc-a764-f990fe95a4b9",
   "metadata": {
    "tags": [
     "hello"
    ]
   },
   "outputs": [
    {
     "name": "stdout",
     "output_type": "stream",
     "text": [
      "hello\n"
     ]
    }
   ],
   "source": [
    "print(\"hello\")"
   ]
  },
  {
   "cell_type": "code",
   "execution_count": 9,
   "id": "d681a434-5ed4-4a94-9c14-77194618229f",
   "metadata": {
    "tags": [
     "hello"
    ]
   },
   "outputs": [
    {
     "name": "stdout",
     "output_type": "stream",
     "text": [
      "hello\n"
     ]
    }
   ],
   "source": [
    "print(\"hello\")"
   ]
  },
  {
   "cell_type": "code",
   "execution_count": 6,
   "id": "0e6dc725-20f7-400a-8769-c09e67a68e2d",
   "metadata": {
    "tags": [
     "there"
    ]
   },
   "outputs": [
    {
     "name": "stdout",
     "output_type": "stream",
     "text": [
      "there\n"
     ]
    }
   ],
   "source": [
    "print(\"there\")"
   ]
  },
  {
   "cell_type": "code",
   "execution_count": 7,
   "id": "232b7bb5-cb20-4539-9a71-761c715e4d71",
   "metadata": {
    "tags": [
     "there"
    ]
   },
   "outputs": [
    {
     "name": "stdout",
     "output_type": "stream",
     "text": [
      "there\n"
     ]
    }
   ],
   "source": [
    "print(\"there\")"
   ]
  },
  {
   "cell_type": "code",
   "execution_count": 8,
   "id": "e11d3013-4560-44c0-8d13-0a713ab69e16",
   "metadata": {
    "tags": [
     "there"
    ]
   },
   "outputs": [
    {
     "name": "stdout",
     "output_type": "stream",
     "text": [
      "there\n"
     ]
    }
   ],
   "source": [
    "print(\"there\")"
   ]
  },
  {
   "cell_type": "code",
   "execution_count": 10,
   "id": "a5b6e066-262e-4373-b231-da430444aa35",
   "metadata": {
    "tags": [
     "hello"
    ]
   },
   "outputs": [
    {
     "name": "stdout",
     "output_type": "stream",
     "text": [
      "hello\n"
     ]
    }
   ],
   "source": [
    "print(\"hello\")"
   ]
  },
  {
   "cell_type": "code",
   "execution_count": 9,
   "id": "e7fb86e9-7c63-47ab-8281-14e356bb54b8",
   "metadata": {
    "tags": [
     "there"
    ]
   },
   "outputs": [
    {
     "name": "stdout",
     "output_type": "stream",
     "text": [
      "there\n"
     ]
    }
   ],
   "source": [
    "print(\"there\")"
   ]
  },
  {
   "cell_type": "code",
   "execution_count": null,
   "id": "629f88b8-19f6-4a33-b800-4f00870847f8",
   "metadata": {},
   "outputs": [],
   "source": []
  }
 ],
 "metadata": {
  "kernelspec": {
   "display_name": "Python 3 (ipykernel)",
   "language": "python",
   "name": "python3"
  },
  "language_info": {
   "codemirror_mode": {
    "name": "ipython",
    "version": 3
   },
   "file_extension": ".py",
   "mimetype": "text/x-python",
   "name": "python",
   "nbconvert_exporter": "python",
   "pygments_lexer": "ipython3",
   "version": "3.10.6"
  }
 },
 "nbformat": 4,
 "nbformat_minor": 5
}
